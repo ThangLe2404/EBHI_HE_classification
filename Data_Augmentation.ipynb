{
  "cells": [
    {
      "cell_type": "markdown",
      "source": [
        "just a note that this notebook is for data augmentation only\n"
      ],
      "metadata": {
        "id": "oof-P_2kKqBa"
      }
    },
    {
      "cell_type": "code",
      "execution_count": null,
      "metadata": {
        "colab": {
          "base_uri": "https://localhost:8080/"
        },
        "id": "2TdaaQJ0gtT7",
        "outputId": "142022d0-89ce-41eb-917b-72e4e604536e"
      },
      "outputs": [
        {
          "output_type": "stream",
          "name": "stdout",
          "text": [
            "Mounted at /content/drive\n"
          ]
        }
      ],
      "source": [
        "# Mount the drive into google colab\n",
        "\n",
        "from google.colab import drive\n",
        "drive.mount('/content/drive', force_remount=True)"
      ]
    },
    {
      "cell_type": "code",
      "execution_count": null,
      "metadata": {
        "id": "1BjxKSl9gc4J"
      },
      "outputs": [],
      "source": [
        "# Import necessary libraries\n",
        "\n",
        "%matplotlib inline\n",
        "import matplotlib.pyplot as plt\n",
        "plt.style.use(\"ggplot\")\n",
        "\n",
        "import numpy as np\n",
        "import pandas as pd\n",
        "import os\n",
        "import random\n",
        "import shutil\n",
        "\n",
        "from sklearn.model_selection import train_test_split\n",
        "from sklearn.metrics import confusion_matrix\n",
        "from sklearn.utils import resample\n",
        "\n",
        "import tensorflow as tf\n",
        "from tensorflow import keras\n",
        "from tensorflow.keras import layers\n",
        "\n",
        "from sklearn import metrics\n",
        "from sklearn.metrics import matthews_corrcoef\n",
        "from sklearn.metrics import accuracy_score\n",
        "from sklearn.metrics import precision_score\n",
        "from sklearn.metrics import recall_score\n",
        "from sklearn.metrics import f1_score\n",
        "from sklearn.metrics import roc_curve\n",
        "from sklearn.metrics import auc\n",
        "from sklearn.metrics import classification_report\n",
        "\n",
        "import itertools\n",
        "import cv2\n",
        "from PIL import Image\n",
        "\n",
        "# from tqdm import tqdm\n",
        "# from glob import glob\n",
        "# import seaborn as sns\n",
        "# import pprint as pp\n",
        "# from google.colab import auth\n",
        "# import gspread\n",
        "# from google.auth import default"
      ]
    },
    {
      "cell_type": "code",
      "execution_count": null,
      "metadata": {
        "id": "1vjeoT7giuem"
      },
      "outputs": [],
      "source": [
        "raw_dataset_path = '/content/drive/MyDrive/EBHI-SEG'\n",
        "dataset_path = '/content/drive/MyDrive/EBHI-SEG/dataset'\n",
        "augment_dataset_path = './'"
      ]
    },
    {
      "cell_type": "markdown",
      "metadata": {
        "id": "Rf0XigqEBKrK"
      },
      "source": [
        "Duplicate folder (used for only duplicate dataset folder -> Create dataset augmentation folder)"
      ]
    },
    {
      "cell_type": "code",
      "source": [
        "!rm -Rf 'High-grade IN'\n",
        "!rm -Rf Normal\n",
        "!rm -Rf 'Serrated adenoma'\n",
        "!rm -Rf 'Low-grade IN'\n",
        "!rm -Rf Adenocarcinoma\n",
        "!rm -Rf Polyp"
      ],
      "metadata": {
        "id": "7pS9CVrknnLq"
      },
      "execution_count": null,
      "outputs": []
    },
    {
      "cell_type": "code",
      "execution_count": null,
      "metadata": {
        "id": "XW9G8qNHc3f9",
        "colab": {
          "base_uri": "https://localhost:8080/"
        },
        "outputId": "338dacac-0b8e-44ad-a7ca-cf49ee2f183a"
      },
      "outputs": [
        {
          "output_type": "stream",
          "name": "stdout",
          "text": [
            "Found existing installation: imgaug 0.4.0\n",
            "Uninstalling imgaug-0.4.0:\n",
            "  Would remove:\n",
            "    /usr/local/lib/python3.10/dist-packages/imgaug-0.4.0.dist-info/*\n",
            "    /usr/local/lib/python3.10/dist-packages/imgaug/*\n",
            "Proceed (Y/n)? y\n",
            "  Successfully uninstalled imgaug-0.4.0\n"
          ]
        }
      ],
      "source": [
        "!pip uninstall imgaug"
      ]
    },
    {
      "cell_type": "code",
      "execution_count": null,
      "metadata": {
        "id": "v3bdUmctDkwK",
        "colab": {
          "base_uri": "https://localhost:8080/",
          "height": 709
        },
        "outputId": "2120b15b-e2da-4535-af35-a6a95017cb78"
      },
      "outputs": [
        {
          "output_type": "stream",
          "name": "stdout",
          "text": [
            "Collecting git+https://github.com/aleju/imgaug.git\n",
            "  Cloning https://github.com/aleju/imgaug.git to /tmp/pip-req-build-h8vlybaz\n",
            "  Running command git clone --filter=blob:none --quiet https://github.com/aleju/imgaug.git /tmp/pip-req-build-h8vlybaz\n",
            "  Resolved https://github.com/aleju/imgaug.git to commit 0101108d4fed06bc5056c4a03e2bcb0216dac326\n",
            "  Preparing metadata (setup.py) ... \u001b[?25l\u001b[?25hdone\n",
            "Requirement already satisfied: six in /usr/local/lib/python3.10/dist-packages (from imgaug==0.4.0) (1.16.0)\n",
            "Requirement already satisfied: numpy>=1.15 in /usr/local/lib/python3.10/dist-packages (from imgaug==0.4.0) (1.23.5)\n",
            "Requirement already satisfied: scipy in /usr/local/lib/python3.10/dist-packages (from imgaug==0.4.0) (1.11.4)\n",
            "Requirement already satisfied: Pillow in /usr/local/lib/python3.10/dist-packages (from imgaug==0.4.0) (9.4.0)\n",
            "Requirement already satisfied: matplotlib in /usr/local/lib/python3.10/dist-packages (from imgaug==0.4.0) (3.7.1)\n",
            "Requirement already satisfied: scikit-image>=0.14.2 in /usr/local/lib/python3.10/dist-packages (from imgaug==0.4.0) (0.19.3)\n",
            "Requirement already satisfied: opencv-python in /usr/local/lib/python3.10/dist-packages (from imgaug==0.4.0) (4.8.0.76)\n",
            "Requirement already satisfied: Shapely in /usr/local/lib/python3.10/dist-packages (from imgaug==0.4.0) (2.0.2)\n",
            "Requirement already satisfied: imageio in /usr/local/lib/python3.10/dist-packages (from imgaug==0.4.0) (2.31.6)\n",
            "Requirement already satisfied: networkx>=2.2 in /usr/local/lib/python3.10/dist-packages (from scikit-image>=0.14.2->imgaug==0.4.0) (3.2.1)\n",
            "Requirement already satisfied: tifffile>=2019.7.26 in /usr/local/lib/python3.10/dist-packages (from scikit-image>=0.14.2->imgaug==0.4.0) (2024.1.30)\n",
            "Requirement already satisfied: PyWavelets>=1.1.1 in /usr/local/lib/python3.10/dist-packages (from scikit-image>=0.14.2->imgaug==0.4.0) (1.5.0)\n",
            "Requirement already satisfied: packaging>=20.0 in /usr/local/lib/python3.10/dist-packages (from scikit-image>=0.14.2->imgaug==0.4.0) (23.2)\n",
            "Requirement already satisfied: contourpy>=1.0.1 in /usr/local/lib/python3.10/dist-packages (from matplotlib->imgaug==0.4.0) (1.2.0)\n",
            "Requirement already satisfied: cycler>=0.10 in /usr/local/lib/python3.10/dist-packages (from matplotlib->imgaug==0.4.0) (0.12.1)\n",
            "Requirement already satisfied: fonttools>=4.22.0 in /usr/local/lib/python3.10/dist-packages (from matplotlib->imgaug==0.4.0) (4.47.2)\n",
            "Requirement already satisfied: kiwisolver>=1.0.1 in /usr/local/lib/python3.10/dist-packages (from matplotlib->imgaug==0.4.0) (1.4.5)\n",
            "Requirement already satisfied: pyparsing>=2.3.1 in /usr/local/lib/python3.10/dist-packages (from matplotlib->imgaug==0.4.0) (3.1.1)\n",
            "Requirement already satisfied: python-dateutil>=2.7 in /usr/local/lib/python3.10/dist-packages (from matplotlib->imgaug==0.4.0) (2.8.2)\n",
            "Building wheels for collected packages: imgaug\n",
            "  Building wheel for imgaug (setup.py) ... \u001b[?25l\u001b[?25hdone\n",
            "  Created wheel for imgaug: filename=imgaug-0.4.0-py3-none-any.whl size=960979 sha256=dd7333f00ae3584b4f9cbf52636ca5d16300af5a0a5168ea82227274ef83e15f\n",
            "  Stored in directory: /tmp/pip-ephem-wheel-cache-6z1cq2kq/wheels/cc/23/52/07b8788e0565865b41e9abddbcf1acbcd57dd3cb3fb90f695a\n",
            "Successfully built imgaug\n",
            "Installing collected packages: imgaug\n",
            "Successfully installed imgaug-0.4.0\n"
          ]
        },
        {
          "output_type": "display_data",
          "data": {
            "application/vnd.colab-display-data+json": {
              "pip_warning": {
                "packages": [
                  "imgaug"
                ]
              }
            }
          },
          "metadata": {}
        }
      ],
      "source": [
        "# Install the newest version of imgaug\n",
        "!pip install git+https://github.com/aleju/imgaug.git"
      ]
    },
    {
      "cell_type": "code",
      "execution_count": null,
      "metadata": {
        "colab": {
          "base_uri": "https://localhost:8080/"
        },
        "id": "9nIoLmSj3_3h",
        "outputId": "31a2a359-c4a8-45c7-c72e-b6563800c7d4"
      },
      "outputs": [
        {
          "output_type": "stream",
          "name": "stdout",
          "text": [
            "This folder has already been created\n",
            "Sub-folders have already been created\n"
          ]
        }
      ],
      "source": [
        "#KHÔNG CHẠY\n",
        "def duplicate_dataset_folder(dataset_path=dataset_path, augment_dataset_path=augment_dataset_path):\n",
        "    try:\n",
        "        os.makedirs(augment_dataset_path)\n",
        "        print(\"Created dataset folder successfully\")\n",
        "    except Exception as e:\n",
        "        print(\"This folder has already been created\")\n",
        "\n",
        "    img_class = os.listdir(dataset_path)\n",
        "\n",
        "    # Create sub-folders\n",
        "    type_dataset_purpose = [\"train\", \"test\", \"val\"]\n",
        "    try:\n",
        "        # Create image folders\n",
        "        for img_label in img_class:\n",
        "            os.makedirs(os.path.join(augment_dataset_path, img_label))\n",
        "            # Create train/val/test folders in each image's folder\n",
        "            for type_data in type_dataset_purpose:\n",
        "                aug_dataset_folder_path = os.path.join(augment_dataset_path, img_label, type_data)\n",
        "                os.makedirs(aug_dataset_folder_path)\n",
        "\n",
        "                # Copy file\n",
        "                dataset_folder_path = os.path.join(dataset_path, img_label, type_data)\n",
        "                list_img = os.listdir(dataset_folder_path)\n",
        "                for img_name in list_img:\n",
        "                    source_path = os.path.join(dataset_folder_path, img_name)\n",
        "                    destination_path = os.path.join(aug_dataset_folder_path, img_name)\n",
        "                    shutil.copyfile(source_path, destination_path)\n",
        "        print(\"Created sub-folders successfully\")\n",
        "    except Exception as e:\n",
        "        print(\"Sub-folders have already been created\")\n",
        "\n",
        "duplicate_dataset_folder()"
      ]
    },
    {
      "cell_type": "markdown",
      "metadata": {
        "id": "7_qrJXZ9BCFr"
      },
      "source": [
        "Image augmentation"
      ]
    },
    {
      "cell_type": "code",
      "execution_count": null,
      "metadata": {
        "id": "7JQKgSuhBGtF"
      },
      "outputs": [],
      "source": [
        "# All paths that need augmentation of the dataset\n",
        "path_high_grade_in  = os.path.join(augment_dataset_path, 'High-grade IN/train/')\n",
        "path_normal         = os.path.join(augment_dataset_path, 'Normal/train/')\n",
        "path_serrated       = os.path.join(augment_dataset_path, 'Serrated adenoma/train/')\n",
        "path_low_grade_in   = os.path.join(augment_dataset_path, 'Low-grade IN/train/')\n",
        "path_adenocarcinoma = os.path.join(augment_dataset_path, 'Adenocarcinoma/train/')\n",
        "path_polyp          = os.path.join(augment_dataset_path, 'Polyp/train/')\n",
        "\n",
        "list_original_path = [path_high_grade_in, path_normal, path_serrated, path_low_grade_in, path_adenocarcinoma, path_polyp]\n",
        "\n",
        "# The number of images in the raw dataset\n",
        "# num_of_raw_images_high_grade_in = len(os.listdir(list_original_path[0]))\n",
        "# num_of_raw_images_normal        = len(os.listdir(list_original_path[1]))\n",
        "# num_of_raw_images_serrated      = len(os.listdir(list_original_path[2]))\n",
        "\n",
        "\n",
        "# num_of_raw_images = [num_of_raw_images_high_grade_in, num_of_raw_images_normal, num_of_raw_images_serrated]\n",
        "# num_of_raw_images = [num_of_raw_images_high_grade_in, num_of_raw_images_normal]\n",
        "# num_of_raw_images"
      ]
    },
    {
      "cell_type": "markdown",
      "source": [],
      "metadata": {
        "id": "zNF15rdboIep"
      }
    },
    {
      "cell_type": "code",
      "execution_count": null,
      "metadata": {
        "id": "dV49dqbqEq1l"
      },
      "outputs": [],
      "source": [
        "import imgaug as ia\n",
        "import numpy as np\n",
        "from PIL import Image\n",
        "import imgaug.augmenters as iaa\n",
        "\n",
        "from skimage.io import imread_collection\n",
        "ia.seed(0)\n",
        "\n",
        "\n",
        "def augment_image(folder_path, number_of_rotation):\n",
        "    seq = imread_collection(folder_path + \"*.png\", conserve_memory=True)\n",
        "\n",
        "    # Flip images horizontally (in percent (0.0 - 1.0))\n",
        "    sqFl1 = iaa.Sequential([\n",
        "        iaa.Fliplr(1),\n",
        "    ])\n",
        "\n",
        "    # Flip images vertically (in percent)\n",
        "    sqFl2 = iaa.Sequential([\n",
        "        iaa.Flipud(1),\n",
        "\n",
        "    ])\n",
        "\n",
        "    sqFl12 = iaa.Sequential([\n",
        "        iaa.Fliplr(1),\n",
        "        iaa.Rotate((-15, 15))\n",
        "\n",
        "    ])\n",
        "\n",
        "    # Flip images vertically (in percent)\n",
        "    sqFl23 = iaa.Sequential([\n",
        "        iaa.Flipud(1),\n",
        "        iaa.Rotate((-15, 15))\n",
        "\n",
        "    ])\n",
        "\n",
        "\n",
        "    sqR180 = iaa.Sequential([\n",
        "        iaa.Rotate(180)\n",
        "    ])\n",
        "\n",
        "\n",
        "\n",
        "    sqRR = iaa.Sequential([\n",
        "        iaa.Rotate((-15, 15))\n",
        "    ])\n",
        "\n",
        "\n",
        "    sqR90 = iaa.Sequential([\n",
        "        iaa.Rotate(90)\n",
        "    ])\n",
        "\n",
        "\n",
        "    sqR180 = iaa.Sequential([\n",
        "        iaa.Rotate(-90)\n",
        "    ])\n",
        "\n",
        "\n",
        "    sqFR90 = iaa.Sequential([\n",
        "        iaa.Flipud(1),\n",
        "        iaa.Rotate(90)\n",
        "    ])\n",
        "\n",
        "\n",
        "    sqFR180 = iaa.Sequential([\n",
        "        iaa.Fliplr(1),\n",
        "        iaa.Rotate(-90)\n",
        "    ])\n",
        "\n",
        "\n",
        "    sqFR902 = iaa.Sequential([\n",
        "        iaa.Fliplr(1),\n",
        "        iaa.Rotate(90)\n",
        "    ])\n",
        "\n",
        "\n",
        "    sqFR1802 = iaa.Sequential([\n",
        "        iaa.Flipud(1),\n",
        "        iaa.Rotate(-90)\n",
        "    ])\n",
        "\n",
        "\n",
        "\n",
        "    images_augmentation = []\n",
        "    if number_of_rotation == -2:\n",
        "      i1 = sqFl1(images=seq)\n",
        "      i2 = sqFl2(images=seq)\n",
        "      images_augmentation.extend([i1, i2])\n",
        "\n",
        "    elif number_of_rotation == -1:\n",
        "      i1 = sqFl1(images=seq)\n",
        "      i2 = sqFl2(images=seq)\n",
        "      i3 = sqR180(images=seq)\n",
        "\n",
        "      i4 = sqR90(images=seq)\n",
        "      i5 = sqR180(images=seq)\n",
        "\n",
        "      i6 = sqFR90(images=seq)\n",
        "      i7 = sqFR180(images=seq)\n",
        "\n",
        "      i8 = sqFR902(images=seq)\n",
        "      i9 = sqFR1802(images=seq)\n",
        "\n",
        "      images_augmentation.extend([i1, i2, i3, i4, i5, i6, i7, i8 , i9])\n",
        "\n",
        "    elif number_of_rotation == 0:\n",
        "      images_aug1 = sqFl1(images=seq)\n",
        "      images_aug2 = sqFl2(images=seq)\n",
        "      images_aug3 = sqFl12(images=seq)\n",
        "      images_aug4 = sqFl23(images=seq)\n",
        "      images_aug5 = sqRR(images=seq)\n",
        "      images_aug6 = sqRR(images=seq)\n",
        "\n",
        "      images_augmentation.extend([images_aug1, images_aug2, images_aug3, images_aug4, images_aug5, images_aug6])\n",
        "\n",
        "    elif number_of_rotation == 1:\n",
        "      images_aug1 = sqFl1(images=seq)\n",
        "      images_aug2 = sqFl2(images=seq)\n",
        "      images_aug3 = sqRR(images=seq)\n",
        "      images_aug4 = sqRR(images=seq)\n",
        "      images_aug5 = sqRR(images=seq)\n",
        "      images_aug6 = sqRR(images=seq)\n",
        "      images_aug7 = sqRR(images=seq)\n",
        "      images_aug8= sqRR(images=seq)\n",
        "      images_aug9 = sqRR(images=seq)\n",
        "      images_aug10 = sqRR(images=seq)\n",
        "      images_aug11 = sqRR(images=seq)\n",
        "\n",
        "\n",
        "      images_aug16 = sqRR(images=seq)\n",
        "      images_aug17 = sqRR(images=seq)\n",
        "      images_aug18 = sqRR(images=seq)\n",
        "\n",
        "\n",
        "      images_augmentation.extend([images_aug1, images_aug2, images_aug3, images_aug4 ,images_aug5, images_aug6, images_aug7\n",
        "                                  ,images_aug8, images_aug9, images_aug10, images_aug11,\n",
        "                                  images_aug16, images_aug17, images_aug18,\n",
        "\n",
        "\n",
        "                                  ])\n",
        "\n",
        "    elif number_of_rotation == 2:\n",
        "      images_aug3 = sqRR(images=seq)\n",
        "      images_aug4 = sqRR(images=seq)\n",
        "      images_aug5 = sqRR(images=seq)\n",
        "      images_aug6 = sqRR(images=seq)\n",
        "      images_aug7 = sqRR(images=seq)\n",
        "\n",
        "\n",
        "      images_aug14 = sqFl1(images=seq)\n",
        "      images_aug15 = sqFl2(images=seq)\n",
        "\n",
        "      images_augmentation.extend([images_aug3, images_aug4 ,images_aug5, images_aug6, images_aug7,\n",
        "                                   images_aug14, images_aug15\n",
        "\n",
        "                                  ])\n",
        "\n",
        "    else:\n",
        "      images_aug3 = sqRR(images=seq)\n",
        "      images_aug4 = sqRR(images=seq)\n",
        "\n",
        "      images_augmentation.extend([images_aug3, images_aug4\n",
        "                              ])\n",
        "    id = 0\n",
        "    for images_aug_type in images_augmentation:\n",
        "        for images in images_aug_type:\n",
        "            image = Image.fromarray(images, 'RGB')\n",
        "            image.save(folder_path + str(id) + \".png\")\n",
        "            id = id + 1\n",
        "    print(f\"Finish augmenting {id} for {folder_path}\")\n"
      ]
    },
    {
      "cell_type": "code",
      "source": [
        "augment_image(folder_path=list_original_path[0],number_of_rotation=-2)\n",
        "augment_image(folder_path=list_original_path[1],number_of_rotation=-1)\n",
        "augment_image(folder_path=list_original_path[2],number_of_rotation=-1)\n",
        "#augment_image(folder_path=list_original_path[3],number_of_rotation=-2)\n",
        "#augment_image(folder_path=list_original_path[4],number_of_rotation=-2)\n",
        "#augment_image(folder_path=list_original_path[5],number_of_rotation=-1)"
      ],
      "metadata": {
        "colab": {
          "base_uri": "https://localhost:8080/"
        },
        "id": "R4JuoMjeWA3P",
        "outputId": "74a41e10-9568-4018-f3a3-26e7e2f9cd3e"
      },
      "execution_count": null,
      "outputs": [
        {
          "output_type": "stream",
          "name": "stdout",
          "text": [
            "Finish augmenting 260 for ./High-grade IN/train/\n",
            "Finish augmenting 477 for ./Normal/train/\n",
            "Finish augmenting 360 for ./Serrated adenoma/train/\n"
          ]
        }
      ]
    },
    {
      "cell_type": "code",
      "source": [
        "path_high_grade_in  = os.path.join(augment_dataset_path, 'High-grade IN/val/')\n",
        "path_normal         = os.path.join(augment_dataset_path, 'Normal/val/')\n",
        "path_serrated       = os.path.join(augment_dataset_path, 'Serrated adenoma/val/')\n",
        "path_low_grade_in   = os.path.join(augment_dataset_path, 'Low-grade IN/val/')\n",
        "path_adenocarcinoma = os.path.join(augment_dataset_path, 'Adenocarcinoma/val/')\n",
        "path_polyp          = os.path.join(augment_dataset_path, 'Polyp/val/')\n",
        "\n",
        "list_original_path = [path_high_grade_in, path_normal, path_serrated, path_low_grade_in, path_adenocarcinoma, path_polyp]\n",
        "\n"
      ],
      "metadata": {
        "id": "c2QPgT7uprgf"
      },
      "execution_count": null,
      "outputs": []
    },
    {
      "cell_type": "code",
      "source": [
        "augment_image(folder_path=list_original_path[0],number_of_rotation=-2)\n",
        "augment_image(folder_path=list_original_path[1],number_of_rotation=-1)\n",
        "augment_image(folder_path=list_original_path[2],number_of_rotation=-1)\n",
        "#augment_image(folder_path=list_original_path[3],number_of_rotation=-2)\n",
        "#augment_image(folder_path=list_original_path[4],number_of_rotation=-2)\n",
        "#augment_image(folder_path=list_original_path[5],number_of_rotation=-1)"
      ],
      "metadata": {
        "colab": {
          "base_uri": "https://localhost:8080/"
        },
        "id": "a441wZL7WD_P",
        "outputId": "3b6675f8-6f05-46e3-defa-aad45a4439b5"
      },
      "execution_count": null,
      "outputs": [
        {
          "output_type": "stream",
          "name": "stdout",
          "text": [
            "Finish augmenting 56 for ./High-grade IN/val/\n",
            "Finish augmenting 99 for ./Normal/val/\n",
            "Finish augmenting 81 for ./Serrated adenoma/val/\n"
          ]
        }
      ]
    }
  ],
  "metadata": {
    "colab": {
      "provenance": []
    },
    "kernelspec": {
      "display_name": "Python 3",
      "name": "python3"
    },
    "language_info": {
      "name": "python"
    }
  },
  "nbformat": 4,
  "nbformat_minor": 0
}
